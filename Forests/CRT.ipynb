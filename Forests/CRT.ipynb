{
 "cells": [
  {
   "cell_type": "code",
   "execution_count": 159,
   "metadata": {
    "collapsed": false
   },
   "outputs": [],
   "source": [
    "import numpy as np\n",
    "\n"
   ]
  },
  {
   "cell_type": "code",
   "execution_count": 178,
   "metadata": {
    "collapsed": false
   },
   "outputs": [],
   "source": [
    "def gini(X, class_values):\n",
    "        gini = 0.0\n",
    "        for c in class_values:\n",
    "            for group in X:\n",
    "                size = float(len(group))\n",
    "                if (size == 0): continue\n",
    "                portion = [row[-1] for row in group].count(c)/size\n",
    "                gini += (portion*(1-portion))\n",
    "                \n",
    "        return gini \n",
    "\n",
    "\n",
    "#split a given data set at index, \"< threshold\" on left\n",
    "def split(X, index, threshold):\n",
    "    new_X = [[],[]]\n",
    "    for element in X:\n",
    "        if element[index] < threshold:\n",
    "            new_X[0].append(element)\n",
    "        else:\n",
    "            new_X[1].append(element)\n",
    "    return new_X        \n",
    "\n",
    "\n",
    "#return the result of splitting dataset\n",
    "def get_split_dataset(X):\n",
    "    best_index, best_threshold, best_gini, best_group = 99,99,99, None\n",
    "    class_values = [row[-1] for row in X]\n",
    "    for index in range(X[0].shape[0] -1):\n",
    "        for row in X:\n",
    "            new_X = split(X, index, row[index])\n",
    "            \n",
    "            gini_ = gini(new_X, class_values)\n",
    "            if (gini_ < best_gini):\n",
    "                best_index = index\n",
    "                best_threshold = row[index]\n",
    "                best_gini = gini_\n",
    "                best_group = new_X\n",
    "    return  {'index':best_index, 'threshold':best_threshold,\\\n",
    "        'gini':best_gini, 'groups':best_group   }\n",
    "\n",
    "def final_output(X):\n",
    "    output = [row[-1] for row in X]\n",
    "    return max(set(output), key = output.count)\n",
    "\n",
    "\n",
    "#split a node. each node contains { 'index', 'threshold', 'gini',\n",
    "#**'left node and right node or a number  '}\n",
    "def split_node(node, max_depth, depth):\n",
    "    left, right = node['groups']\n",
    "    #will replace the orignal node['groups'] by two childs\n",
    "    del node['groups']\n",
    "    #the pure case, only left or right, which means no need to continue\n",
    "    if not left or not right:\n",
    "        if not left:\n",
    "            node['right'] = node['left']= final_output(right)\n",
    "            #node['left'] = 'NULL'\n",
    "        else:\n",
    "            node['left'] = node['right'] = final_output(left)\n",
    "            #node['right'] = 'NULL'\n",
    "            \n",
    "        return \n",
    "    \n",
    "    if depth >= max_depth:\n",
    "        node['left'] = final_output(left)\n",
    "        node['right'] = final_output(right)\n",
    "        return \n",
    "    \n",
    "    #the case we have both left and right\n",
    "    #we first make left chile really a node, that is, containing gini, threshold...\n",
    "    node['left'] = get_split_dataset(left)\n",
    "    #then recursively run on the left kid\n",
    "    split_node(node['left'], max_depth, depth + 1)\n",
    "    \n",
    "    node['right'] = get_split_dataset(right)\n",
    "    split_node(node['right'], max_depth, depth + 1)\n",
    "\n",
    "\n",
    "#built a tree\n",
    "def tree(dataset, max_depth):\n",
    "    root_node = get_split_dataset(dataset)\n",
    "    split_node(root_node, max_depth, 1)\n",
    "    return root_node\n",
    "    \n",
    "#prediction, tree_root is a node, row is the data we want to predict\n",
    "def predict(tree_root, data):\n",
    "    #compare data with root threshold\n",
    "    if data[tree_root['index']] < tree_root['threshold']:\n",
    "        #check if left node is already pure\n",
    "        if isinstance(tree_root['left'], dict):\n",
    "            return predict(tree_root['left'], data)\n",
    "        #if pure, return the value\n",
    "        else: return tree_root['left']  \n",
    "    \n",
    "    else:\n",
    "        if isinstance(tree_root['right'], dict):\n",
    "            return predict(tree_root['right'], data)\n",
    "        else: return tree_root['right']    "
   ]
  },
  {
   "cell_type": "markdown",
   "metadata": {},
   "source": [
    "Now we try a toy example. "
   ]
  },
  {
   "cell_type": "code",
   "execution_count": 179,
   "metadata": {
    "collapsed": false
   },
   "outputs": [
    {
     "data": {
      "text/plain": [
       "{'gini': 0.0,\n",
       " 'index': 0,\n",
       " 'left': {'gini': 0.0,\n",
       "  'index': 0,\n",
       "  'left': 0.0,\n",
       "  'right': 0.0,\n",
       "  'threshold': 2.7712447180000002},\n",
       " 'right': {'gini': 0.0,\n",
       "  'index': 0,\n",
       "  'left': 1.0,\n",
       "  'right': 1.0,\n",
       "  'threshold': 7.4975458670000004},\n",
       " 'threshold': 6.6422873510000002}"
      ]
     },
     "execution_count": 179,
     "metadata": {},
     "output_type": "execute_result"
    }
   ],
   "source": [
    "dataset = np.array([[2.771244718,1.784783929,0],\n",
    "[1.728571309,1.169761413,0],\n",
    "[3.678319846,2.81281357,0],\n",
    "[3.961043357,2.61995032,0],\n",
    "[2.999208922,2.209014212,0],\n",
    "[7.497545867,3.162953546,1],\n",
    "[9.00220326,3.339047188,1],\n",
    "[7.444542326,0.476683375,1],\n",
    "[10.12493903,3.234550982,1],\n",
    "[6.642287351,3.319983761,1]])\n",
    "\n",
    "root = tree(dataset, 2)\n",
    "root"
   ]
  },
  {
   "cell_type": "code",
   "execution_count": 181,
   "metadata": {
    "collapsed": false
   },
   "outputs": [
    {
     "name": "stdout",
     "output_type": "stream",
     "text": [
      "1.0\n"
     ]
    }
   ],
   "source": [
    "data = [7.497545867,3.162953546,1]\n",
    "print predict(root, data)\n"
   ]
  },
  {
   "cell_type": "code",
   "execution_count": 163,
   "metadata": {
    "collapsed": false
   },
   "outputs": [
    {
     "data": {
      "text/plain": [
       "True"
      ]
     },
     "execution_count": 163,
     "metadata": {},
     "output_type": "execute_result"
    }
   ],
   "source": []
  }
 ],
 "metadata": {
  "kernelspec": {
   "display_name": "Python 2",
   "language": "python",
   "name": "python2"
  },
  "language_info": {
   "codemirror_mode": {
    "name": "ipython",
    "version": 2
   },
   "file_extension": ".py",
   "mimetype": "text/x-python",
   "name": "python",
   "nbconvert_exporter": "python",
   "pygments_lexer": "ipython2",
   "version": "2.7.13"
  }
 },
 "nbformat": 4,
 "nbformat_minor": 1
}
