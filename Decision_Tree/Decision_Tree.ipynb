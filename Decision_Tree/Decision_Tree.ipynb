{
 "cells": [
  {
   "cell_type": "markdown",
   "metadata": {},
   "source": [
    "Let $D_p$ and $D_j$ be the data of the parent node and child node respectively. The goal of decision tree is to maximize the information gain\n",
    "$$ IG:= I(D_p) - \\sum _j \\frac{N_j}{N_p}I(D_j), $$\n",
    "where the function $I(\\cdot)$ is to measure the **impurity ** of the data set."
   ]
  }
 ],
 "metadata": {
  "kernelspec": {
   "display_name": "Python 2",
   "language": "python",
   "name": "python2"
  },
  "language_info": {
   "codemirror_mode": {
    "name": "ipython",
    "version": 2
   },
   "file_extension": ".py",
   "mimetype": "text/x-python",
   "name": "python",
   "nbconvert_exporter": "python",
   "pygments_lexer": "ipython2",
   "version": "2.7.13"
  }
 },
 "nbformat": 4,
 "nbformat_minor": 1
}
