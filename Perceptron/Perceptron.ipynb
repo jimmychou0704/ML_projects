{
 "cells": [
  {
   "cell_type": "code",
   "execution_count": 103,
   "metadata": {
    "collapsed": false
   },
   "outputs": [],
   "source": [
    "import numpy as np\n",
    "class perceptron(object):\n",
    "    \n",
    "    #constructor\n",
    "    def __init__(self, eta, iters):\n",
    "            self.eta = eta\n",
    "            self.iters = iters\n",
    "          \n",
    "    def fit(self, X, Y)    :\n",
    "            '''\n",
    "            X: [N, num_features] nparray\n",
    "            Y: [N, 1]            nparray, with values equal to 1 or -1\n",
    "            \n",
    "            new_X: [N, 1 + num_features] add colume of \n",
    "                    ones into the features\n",
    "            '''\n",
    "            self.w = np.zeros(1+X.shape[1])\n",
    "            self.new_X = np.ones((X.shape[0], 1+X.shape[1]))\n",
    "            self.new_X[:, 1:] = X\n",
    "            #self.X = X\n",
    "            self.Y = Y.reshape((self.new_X.shape[0],1))\n",
    "            for _ in range(self.iters):\n",
    "                temp_delta_w = self.eta*(self.new_X.T.dot(Y-self.predict(X)))\n",
    "                delta_w = temp_delta_w.reshape((temp_delta_w.shape[0],))\n",
    "                            \n",
    "                self.w += delta_w\n",
    "            \n",
    "     \n",
    "    def predict(self, X):\n",
    "            new_X = np.ones((X.shape[0], 1+ X.shape[1]))\n",
    "            new_X[:, 1:] = X\n",
    "            return np.where( new_X.dot(self.w) >= 0, 1.0, -1.0)\\\n",
    "                .reshape((new_X.shape[0], 1))"
   ]
  },
  {
   "cell_type": "code",
   "execution_count": 104,
   "metadata": {
    "collapsed": false
   },
   "outputs": [
    {
     "data": {
      "text/plain": [
       "array([[ 1.],\n",
       "       [-1.]])"
      ]
     },
     "execution_count": 104,
     "metadata": {},
     "output_type": "execute_result"
    }
   ],
   "source": [
    "X = np.array([[1,0,0],[0,1,5]])\n",
    "Y = np.array([[1],[-1]])\n",
    "p = perceptron(0.1, 100)\n",
    "p.fit(X,Y)\n",
    "p.predict(X)\n",
    "#Y.shape"
   ]
  },
  {
   "cell_type": "code",
   "execution_count": 9,
   "metadata": {
    "collapsed": false
   },
   "outputs": [
    {
     "name": "stdout",
     "output_type": "stream",
     "text": [
      "5\n",
      "5\n",
      "5\n",
      "5\n",
      "5\n",
      "5\n",
      "5\n",
      "5\n",
      "5\n",
      "5\n"
     ]
    }
   ],
   "source": []
  }
 ],
 "metadata": {
  "kernelspec": {
   "display_name": "Python 2",
   "language": "python",
   "name": "python2"
  },
  "language_info": {
   "codemirror_mode": {
    "name": "ipython",
    "version": 2
   },
   "file_extension": ".py",
   "mimetype": "text/x-python",
   "name": "python",
   "nbconvert_exporter": "python",
   "pygments_lexer": "ipython2",
   "version": "2.7.13"
  }
 },
 "nbformat": 4,
 "nbformat_minor": 1
}
