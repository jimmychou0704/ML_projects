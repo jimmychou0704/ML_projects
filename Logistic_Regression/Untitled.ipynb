{
 "cells": [
  {
   "cell_type": "markdown",
   "metadata": {},
   "source": [
    "# Logistic Regression\n"
   ]
  },
  {
   "cell_type": "code",
   "execution_count": null,
   "metadata": {
    "collapsed": true
   },
   "outputs": [],
   "source": []
  },
  {
   "cell_type": "markdown",
   "metadata": {},
   "source": [
    "  Although it is called regression, it is actually classification. Here we consider the case that the dependent variables are labeled either $+1$ or $-1$. Given an observatoin $x_i$, we estimate the probability of $y_i $ being $+1$ by\n",
    "$$ h(x_i)= \\frac{1}{1+e^{W^tx}}$$\n",
    "Then our goal is find $W$\n",
    "$$ \\max _W h(x_1)h(x_2)(1-h(x_3))\\cdots $$\n",
    "where $h(x_1)$ means $y_i = 1$ and $(1-h(x_3))$ means $y_3 = -1$.\n",
    "\n",
    "Since $1-h(x)=h(-x)$, we have\n",
    "\n",
    "\\begin{eqnarray*}\n",
    "& &\\min _W \\prod _i h(y_ix_i)\\\\\n",
    "& \\Leftrightarrow& \\min _W - \\frac{1}{N}\\sum \\ln h(y_ix_i)\\\\\n",
    "& \\Leftrightarrow& \\min _W \\frac{1}{N}\\sum \\ln (1+e^{-y_iW^tx_i})\n",
    "\\end{eqnarray*}\n",
    "\n",
    "So we can think $E := \\frac{1}{N}\\sum \\ln (1+e^{-y_iW^tx_i})$ as error. Intuitively, to make it smal it's better to guess correctly. \n",
    "\n",
    "To use the gradient decent method, we compute\n",
    "\\begin{equation*}\n",
    "\\nabla E = \\frac{1}{N}\\sum \\frac{-y_ix_i}{1+e^{-y_iW^tx_i}}\n",
    "\\end{equation*}\n",
    "The the iterative process is \n",
    "\\begin{equation*}\n",
    "W_{t+1} = W_t -\\eta \\nabla E\n",
    "\\end{equation*}\n",
    "\n",
    "  \n"
   ]
  },
  {
   "cell_type": "markdown",
   "metadata": {},
   "source": [
    "\n"
   ]
  },
  {
   "cell_type": "code",
   "execution_count": 2,
   "metadata": {
    "collapsed": false,
    "scrolled": true
   },
   "outputs": [
    {
     "name": "stdout",
     "output_type": "stream",
     "text": [
      "   admit  gre   gpa  rank\n",
      "0      0  380  3.61     3\n",
      "1      1  660  3.67     3\n",
      "2      1  800  4.00     1\n",
      "3      1  640  3.19     4\n",
      "4      0  520  2.93     4\n"
     ]
    }
   ],
   "source": [
    "import pandas as pd\n",
    "import numpy as np\n",
    "\n",
    "df = pd.read_csv(\"http://www.ats.ucla.edu/stat/data/binary.csv\")\n",
    "\n",
    "print df.head()"
   ]
  },
  {
   "cell_type": "code",
   "execution_count": null,
   "metadata": {
    "collapsed": true
   },
   "outputs": [],
   "source": []
  }
 ],
 "metadata": {
  "kernelspec": {
   "display_name": "Python 2",
   "language": "python",
   "name": "python2"
  },
  "language_info": {
   "codemirror_mode": {
    "name": "ipython",
    "version": 2
   },
   "file_extension": ".py",
   "mimetype": "text/x-python",
   "name": "python",
   "nbconvert_exporter": "python",
   "pygments_lexer": "ipython2",
   "version": "2.7.11"
  }
 },
 "nbformat": 4,
 "nbformat_minor": 0
}
