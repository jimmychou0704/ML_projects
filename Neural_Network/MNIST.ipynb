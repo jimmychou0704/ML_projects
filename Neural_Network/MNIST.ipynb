{
 "cells": [
  {
   "cell_type": "markdown",
   "metadata": {},
   "source": [
    "# MNIST data  \n"
   ]
  },
  {
   "cell_type": "code",
   "execution_count": 2,
   "metadata": {
    "collapsed": true
   },
   "outputs": [],
   "source": [
    "import os\n",
    "import struct\n",
    "import numpy as np\n",
    "\n",
    "#utility function to read data\n",
    "\n",
    "def load_mnist(path, Type = 'train'):\n",
    "    #construct paths, \n",
    "    #two train datas are train-images-idx3-ubyte, train-labels-idx1-ubyte\n",
    "    #two test datas are t10k-images-idx3-ubyte, t10k-labels-idx1-ubyte\n",
    "    label_path = os.path.join(path, '%s-labels-idx1-ubyte' % Type)\n",
    "    \n",
    "    image_path = os.path.join(path, '%s-images-idx3-ubyte' % Type)\n",
    "    \n",
    "    with open(label_path, 'rb') as l_path:\n",
    "        m, n = struct.unpack('>II', l_path.read(8))\n",
    "        label = np.fromfile(l_path, dtype = np.uint8)\n",
    "        \n",
    "    with open(image_path, 'rb') as i_path:\n",
    "        m,n, rows, cols = struct.unpack('>IIII', i_path.read(16))\n",
    "        image = np.fromfile(i_path, dtype = np.uint8).reshape(len(label), 784)\n",
    "    return image, label\n",
    "    \n",
    "    "
   ]
  },
  {
   "cell_type": "code",
   "execution_count": 21,
   "metadata": {
    "collapsed": false
   },
   "outputs": [
    {
     "data": {
      "text/plain": [
       "(60000, 784)"
      ]
     },
     "execution_count": 21,
     "metadata": {},
     "output_type": "execute_result"
    }
   ],
   "source": [
    "X_train, y_train = load_mnist('/Users/chihchichou/Documents/CS/Machine_Learning/ML/Neural_Network/data')\n",
    "X_test, y_test = load_mnist('/Users/chihchichou/Documents/CS/Machine_Learning/ML/Neural_Network/data', Type = 'test')\n",
    "X_train.shape\n"
   ]
  },
  {
   "cell_type": "code",
   "execution_count": 21,
   "metadata": {
    "collapsed": false
   },
   "outputs": [
    {
     "name": "stdout",
     "output_type": "stream",
     "text": [
      "Populating the interactive namespace from numpy and matplotlib\n"
     ]
    },
    {
     "data": {
      "image/png": "[encoded data removed]",
      "text/plain": [
       "<matplotlib.figure.Figure at 0x11ef41590>"
      ]
     },
     "metadata": {},
     "output_type": "display_data"
    }
   ],
   "source": [
    "#lets take a look of some examples of pictures\n",
    "\n",
    "import matplotlib.pyplot as plt\n",
    "%pylab inline\n",
    "fig, ax = plt.subplots(nrows = 5, ncols = 5, sharex = True, sharey = True)\n",
    "ax = ax.flatten()\n",
    "for i in range(25):\n",
    "    #img = X_train[y_train == 0][i].reshape(28,28)\n",
    "    img = X_train[i].reshape(28,28)\n",
    "    ax[i].imshow(img, cmap = 'Greys', interpolation = 'nearest')\n",
    "ax[0].set_xticks([])\n",
    "ax[0].set_yticks([])\n",
    "\n",
    "\n",
    "plt.show()"
   ]
  },
  {
   "cell_type": "code",
   "execution_count": 12,
   "metadata": {
    "collapsed": false
   },
   "outputs": [
    {
     "data": {
      "text/plain": [
       "<NNet.NNet at 0x10c788790>"
      ]
     },
     "execution_count": 12,
     "metadata": {},
     "output_type": "execute_result"
    }
   ],
   "source": [
    "#train on the whole training set\n",
    "import NNet\n",
    "#(n_features, n_hidden, n_output, iters = 100,minibatch = 1, eta = 0.01)\n",
    "nnet = NNet.NNet(784, 50, 10, minibatch = 50, eta = 0.001)\n",
    "nnet.fit(X_train, y_train)"
   ]
  },
  {
   "cell_type": "code",
   "execution_count": 18,
   "metadata": {
    "collapsed": false
   },
   "outputs": [
    {
     "name": "stdout",
     "output_type": "stream",
     "text": [
      "Training accuracy : 88.77%\n"
     ]
    }
   ],
   "source": [
    "#compute the indat error\n",
    "pred_y = nnet.predict(X_train)\n",
    "acc = (float(np.sum(pred_y == y_train))/y_train.shape[0])\n",
    "print 'Training accuracy : %.2f%%' %(acc*100)\n"
   ]
  },
  {
   "cell_type": "code",
   "execution_count": 22,
   "metadata": {
    "collapsed": false
   },
   "outputs": [
    {
     "name": "stdout",
     "output_type": "stream",
     "text": [
      "Prediction accuracy : 88.97%\n"
     ]
    }
   ],
   "source": [
    "#make prediction\n",
    "pred_y = nnet.predict(X_test)\n",
    "acc = (float(np.sum(pred_y == y_test))/y_test.shape[0])\n",
    "print 'Prediction accuracy : %.2f%%' %(acc*100)"
   ]
  }
 ],
 "metadata": {
  "kernelspec": {
   "display_name": "Python 2",
   "language": "python",
   "name": "python2"
  },
  "language_info": {
   "codemirror_mode": {
    "name": "ipython",
    "version": 2
   },
   "file_extension": ".py",
   "mimetype": "text/x-python",
   "name": "python",
   "nbconvert_exporter": "python",
   "pygments_lexer": "ipython2",
   "version": "2.7.13"
  }
 },
 "nbformat": 4,
 "nbformat_minor": 1
}
