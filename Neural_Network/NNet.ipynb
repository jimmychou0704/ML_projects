{
 "cells": [
  {
   "cell_type": "code",
   "execution_count": 21,
   "metadata": {
    "collapsed": false
   },
   "outputs": [],
   "source": [
    "import numpy as np\n",
    "import numpy.random as npr\n",
    "\n",
    "#one hidden layer\n",
    "\n",
    "class NNet(object):\n",
    "    def __init__(self,n_features, n_hidden, n_output, eta = 0.01): \n",
    "        '''\n",
    "        n_features: number of features of the very first layer, constant \n",
    "                    not included\n",
    "        \n",
    "        n_hidden:   number of features of the hidden layer\n",
    "        \n",
    "        n_output:   number of output (classification) of the last layer\n",
    "        '''\n",
    "        \n",
    "        self.eta = eta\n",
    "    \n",
    "    \n",
    "    #####################################################\n",
    "    #  \n",
    "    #         Forward computation utility functions\n",
    "    #\n",
    "    #####################################################\n",
    "        \n",
    "        \n",
    "    def initializeWeight(self):\n",
    "        \n",
    "        #from layer one to the hidden layer\n",
    "        w1 = npr.uniform(-1.0, 1.0, size = self.n_hidden*(self.n_features + 1))\n",
    "        w1.reshape(self.n_hidden, self.n_features + 1)\n",
    "        \n",
    "        #from hidden layer to the output layer\n",
    "        w2 = npr.uniform(-1.0, 1.0, size = self.n_output*(self.n_hidden+1))\n",
    "        w2.reshape(self.n_output, self.n_hidden+1)\n",
    "        \n",
    "        return w1, w2\n",
    "        \n",
    "        \n",
    "        #phi function at each cell\n",
    "    def sigmoid(self, z):\n",
    "        return 1.0/(1.0+np.exp(-z))\n",
    "    \n",
    "    def forward(self, X, w1, w2):\n",
    "        # X is a N x n_features data matrix\n",
    "        #add constant = 1 to each data, to the first column\n",
    "        a_input = np.ones(X.shape[0], X.shape[1] + 1)\n",
    "        a_input[:, 1:] = X\n",
    "        #new_X is a N x (n_features + 1) data matrix\n",
    "        \n",
    "        #compute the output of the hidden layer\n",
    "        #a_hidden is a n_hidden x N matrix\n",
    "        z_hidden = w1.dot(a_input.T)\n",
    "        a_hidden = self.sigmoid(z_hidden)\n",
    "        \n",
    "        #add const one to each data\n",
    "        #new_a_hidden is a (n_hidden+1)x N matrix\n",
    "        new_a_hidden = np.ones(n_hidden + 1, a.hidden.shpae[1])\n",
    "        new_a_hidden[1: , :] = a_hidden\n",
    "        \n",
    "        #compute the output\n",
    "        z_output = w2.dot(new_a_hidden)\n",
    "        a_output = self.sigmoid(z_output)\n",
    "        \n",
    "        #return result of every layer\n",
    "        return a_input, z_hidden, new_a_hidden, z_output, a_output \n",
    "    \n",
    "    #######################################################\n",
    "    #  \n",
    "    #         Backward computation utility functions\n",
    "    #\n",
    "    ########################################################\n",
    "    \n",
    "    #derivative of tanh\n",
    "    def sigmoid_gradient(self,z):\n",
    "        return self.sigmoid(z)*(1-self.sigmoid(z))\n",
    "    \n",
    "    #why do we need z_hidden?????\n",
    "    def w_gradient(self, w1, w2, y, a_input, new_a_hidden, a_output, z_hidden):\n",
    "        delta3 = y - a_output\n",
    "        \n",
    "        #new_a_hidden has one more row of one's, so is w2\n",
    "        #so we also add one row into to z_hidden\n",
    "        #after computing delta2, we get rid of this row\n",
    "        new_z_hidden = np.ones(z_hidden.shape[0]+1, z_hidden.shape[1])\n",
    "        new_z_hidden [1:, :] = z_hidden\n",
    "        delta2  = w2.T.dot(delta3)*self.sigmoid_gradient(new_z_hidden)\n",
    "        delta2 = delta2[1:, :]   \n",
    "    \n",
    "    \n",
    "    ########################################\n",
    "    #  \n",
    "    #         Regularization\n",
    "    #\n",
    "    #######################################\n",
    "    def L2(self, w1, w2):\n",
    "        \n",
    "        return np.sum(w1*w1)+ np.sum(w2*w2)\n",
    "        \n",
    "        "
   ]
  },
  {
   "cell_type": "markdown",
   "metadata": {},
   "source": [
    "The pipeline is\n",
    "$$a \\rightarrow ^w z \\rightarrow \\tanh \\rightarrow a \\rightarrow ^w z \\cdots$$\n",
    "\n",
    "To do backpropagation, we need to compute\n",
    "$$\\delta ^{(l)}_j := \\frac{\\partial Error}{\\partial z^{(l)}_j}\n",
    "=\\sum_k \\delta ^{(l+1)}_k w _{jk}^{(l+1)}\\tanh'(z^{(l)}_j) $$"
   ]
  },
  {
   "cell_type": "code",
   "execution_count": 14,
   "metadata": {
    "collapsed": false
   },
   "outputs": [
    {
     "name": "stdout",
     "output_type": "stream",
     "text": [
      "[ 0.          0.88079708  0.95257413  0.98201379  0.99330715]\n"
     ]
    },
    {
     "name": "stderr",
     "output_type": "stream",
     "text": [
      "/Users/chihchichou/anaconda/lib/python2.7/site-packages/ipykernel/__main__.py:2: RuntimeWarning: overflow encountered in exp\n",
      "  from ipykernel import kernelapp as app\n"
     ]
    }
   ],
   "source": []
  }
 ],
 "metadata": {
  "kernelspec": {
   "display_name": "Python 2",
   "language": "python",
   "name": "python2"
  },
  "language_info": {
   "codemirror_mode": {
    "name": "ipython",
    "version": 2
   },
   "file_extension": ".py",
   "mimetype": "text/x-python",
   "name": "python",
   "nbconvert_exporter": "python",
   "pygments_lexer": "ipython2",
   "version": "2.7.13"
  }
 },
 "nbformat": 4,
 "nbformat_minor": 1
}
