{
 "cells": [
  {
   "cell_type": "markdown",
   "metadata": {},
   "source": [
    "**Primal Soft SVM** We allow violations, characterized by $\\xi _n.$\n",
    "$$\\min_{W,b} \\frac{1}{2}W^T\\cdot W + C\\sum _{n=1}^N \\xi _n$$\n",
    "$$ \\mbox{s.t.  } y_n (W^Tx+b) \\ge 1-\\xi_n, \\xi \\ge 0, \\forall n. $$\n",
    "\n",
    "It is a quadratic programming problem with $d+1+N$ variables, \n",
    "$$ W, C \\mbox{ and } \\xi_n$$\n",
    "Considering **dual** Largrange probelm, \n",
    "$$\\mathcal{L}(b, W, \\xi, \\alpha, \\beta)\n",
    "= \\frac{1}{2}W^TW+C\\sum \\xi_n +\\sum \\alpha_n(1-\\xi_n-y_n(W^Tx_n+b))+\\sum \\beta_n(-\\xi_n),$$\n",
    "we want to compute\n",
    "$$\\max_{\\alpha , \\beta}\\min_{b,W, \\xi} \\mathcal{L}$$\n",
    "\n",
    "After we take some partial derivatives, we get the solutions is almost equal to the one in hard SVM, \n",
    "$$ \\min \\frac{1}{2} \\sum_n \\sum_m \\alpha_n\\alpha_my_ny_mX^T_nX_m-\\sum \\alpha _n$$\n",
    "$$\\mbox{s.t. } \\alpha_n \\ge 0, \\sum \\alpha_n y_n = 0$$\n",
    "plus two more conditions,\n",
    "$$\\alpha_n \\le C, \\mbox{ and } $$ \n",
    "$$ \\beta_n = C-\\alpha _n.$$\n"
   ]
  },
  {
   "cell_type": "markdown",
   "metadata": {},
   "source": [
    "**Intuitions behind complment slackness condistions** "
   ]
  }
 ],
 "metadata": {
  "kernelspec": {
   "display_name": "Python 2",
   "language": "python",
   "name": "python2"
  },
  "language_info": {
   "codemirror_mode": {
    "name": "ipython",
    "version": 2
   },
   "file_extension": ".py",
   "mimetype": "text/x-python",
   "name": "python",
   "nbconvert_exporter": "python",
   "pygments_lexer": "ipython2",
   "version": "2.7.13"
  }
 },
 "nbformat": 4,
 "nbformat_minor": 1
}
