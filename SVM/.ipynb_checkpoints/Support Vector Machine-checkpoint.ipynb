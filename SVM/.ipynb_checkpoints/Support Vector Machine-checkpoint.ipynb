{
 "cells": [
  {
   "cell_type": "markdown",
   "metadata": {},
   "source": [
    "\n",
    "We first consider hard SVM, that is, we want to find a hyperlane that seperates all datas. Let me start with the conclusion, then derive the idea behind it. The goal is to solve the following optimizatoin problem\n",
    "\\begin{eqnarray}\n",
    "&&\\min_{W,b} \\frac{1}{2}W^T\\cdot W \\\\\n",
    "&& \\mbox{s.t.  } y_n (W^Tx+b) \\ge 1\n",
    "\\end{eqnarray}\n",
    "\n",
    "\n",
    "Since the idea of support vector machine is to maximize the distance of points to the separating hyper plane, we fist consider how to compute distance between a point and a plane.\n",
    "Let $<x, 1>$ be a fixed point in $\\mathbb{R}^{n+1}$ and a hyperplane $H:wx' + b = 0$in $\\mathbb{R}^{n+1}$. To compute thedistance between $x$ and $H$, note that the normal vector is $<w, 0>$. So the distance is \n",
    "\\begin{equation}\n",
    "d(x,b,w) = \\mid\\frac{w^t}{|w|}\\cdot (x-x')\\mid = \\frac{1}{|w|} \\mid w^tx +b \\mid\n",
    "\\end{equation}\n",
    "for any point $x'$ on $H$.\n",
    "\n",
    "Then the optimization problem becomes \n",
    "\\begin{eqnarray}\n",
    "& & \\max \\mbox{ margin}(b,W)\\\\\n",
    "& &  \\mbox{s.t. }  y_n(W^Tx_n+b) >0 , \\forall n\n",
    "\\end{eqnarray}\n",
    "where margin$(b,W)$ is $\\min \\frac{1}{|W|}y_n(W^Tx_n+b)$\n",
    "\n",
    "We can always renormalize so that \n",
    "\\begin{equation}\n",
    "\\min \\frac{1}{|W|}y_n(W^Tx_n+b) = \\frac{1}{|W|}\n",
    "\\end{equation}\n",
    "Then the optimization problem becomes\n",
    "\\begin{eqnarray}\n",
    "& & \\max \\frac{1}{|W|}\\\\\n",
    "& &  \\mbox{s.t. }  y_n(W^Tx_n+b) >0 , \\forall n\n",
    "\\end{eqnarray}\n",
    "which is equivalent to \n",
    "\\begin{eqnarray}\n",
    "& & \\min \\frac{1}{2}W^TW\\\\\n",
    "& &  \\mbox{s.t. }  y_n(W^Tx_n+b) \\ge 1 , \\forall n\n",
    "\\end{eqnarray}\n"
   ]
  }
 ],
 "metadata": {
  "kernelspec": {
   "display_name": "Python 2",
   "language": "python",
   "name": "python2"
  },
  "language_info": {
   "codemirror_mode": {
    "name": "ipython",
    "version": 2
   },
   "file_extension": ".py",
   "mimetype": "text/x-python",
   "name": "python",
   "nbconvert_exporter": "python",
   "pygments_lexer": "ipython2",
   "version": "2.7.11"
  }
 },
 "nbformat": 4,
 "nbformat_minor": 1
}
