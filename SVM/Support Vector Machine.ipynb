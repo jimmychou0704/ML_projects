{
 "cells": [
  {
   "cell_type": "markdown",
   "metadata": {},
   "source": [
    "Since the idea of support vector machine is to maximize the distance of points to the separating hyper plane, we fist consider how to compute distance between a point and a plane.\n",
    "Let $<x, 1>$ be a fixed point in $\\mathbb{R}^{n+1}$ and a hyperplane $H:wx' + b = 0$in $\\mathbb{R}^{n+1}$. To compute thedistance between $x$ and $H$, note that the normal vector is $<w, 0>$. So the distance is \n",
    "\\begin{equation}\n",
    "\\mid\\frac{w^t}{|w|}\\cdot (x-x')\\mid\n",
    "\\end{equation}\n",
    "for any point $x'$ on $H$.\n"
   ]
  }
 ],
 "metadata": {
  "kernelspec": {
   "display_name": "Python 2",
   "language": "python",
   "name": "python2"
  },
  "language_info": {
   "codemirror_mode": {
    "name": "ipython",
    "version": 2
   },
   "file_extension": ".py",
   "mimetype": "text/x-python",
   "name": "python",
   "nbconvert_exporter": "python",
   "pygments_lexer": "ipython2",
   "version": "2.7.11"
  }
 },
 "nbformat": 4,
 "nbformat_minor": 1
}
