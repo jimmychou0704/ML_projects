{
 "cells": [
  {
   "cell_type": "markdown",
   "metadata": {},
   "source": [
    "**Primal hard SVM problem**\n",
    "We first consider hard SVM, that is, we want to find a hyperlane that seperates all datas. Let me start with the conclusion, then derive the idea behind it. The goal is to solve the following optimizatoin problem\n",
    "\n",
    "$$\\min_{W,b} \\frac{1}{2}W^T\\cdot W $$\n",
    "$$ \\mbox{s.t.  } y_n (W^Tx+b) \\ge 1 $$\n",
    "\n",
    "\n",
    "\n",
    "Since the idea of support vector machine is to maximize the distance of points to the separating hyper plane, we fist consider how to compute distance between a point and a plane.\n",
    "Let $<x, 1>$ be a fixed point in $\\mathbb{R}^{n+1}$ and a hyperplane $H:wx' + b = 0$in $\\mathbb{R}^{n+1}$. To compute thedistance between $x$ and $H$, note that the normal vector is $<w, 0>$. So the distance is \n",
    "\n",
    "$$d(x,b,W) = \\mid\\frac{W^T}{|W|}\\cdot (x-x')\\mid = \\frac{1}{|W|} \\mid W^Tx +b \\mid$$\n",
    "\n",
    "for any point $x'$ on $H$.\n",
    "\n",
    "Then the optimization problem becomes \n",
    "\n",
    "$$ \\max \\mbox{ margin}(b,W)$$\n",
    "$$  \\mbox{s.t. }  y_n(W^Tx_n+b) >0 , \\forall n $$\n",
    "\n",
    "where margin$(b,W)$ is $\\min_n \\frac{1}{|W|}y_n(W^Tx_n+b)$\n",
    "\n",
    "We can rescale $(W,b)$ without changing hyperplane, so we can consider the $(W,b)$\n",
    "such that $\\min_n y_n(W^Tx_n +b)= 1$.\n",
    "It is easy to see the margin happens at the data points where \n",
    "$y_n(W^Tx_n +b)= 1.$\n",
    "\n",
    "Then the optimization problem becomes\n",
    "\n",
    "$$ \\max \\frac{1}{|W|} $$\n",
    "$$  \\mbox{s.t. }  y_n(W^Tx_n+b) \\ge 1 , \\forall n $$\n",
    "\n",
    "which is equivalent to \n",
    "\n",
    "$$ \\min \\frac{1}{2}W^TW $$\n",
    "$$ \\mbox{s.t. }  y_n(W^Tx_n+b) \\ge 1 , \\forall 1\\le n \\le N $$\n",
    "\n"
   ]
  },
  {
   "cell_type": "markdown",
   "metadata": {},
   "source": [
    "**Dual SVM problem**\n",
    "For the primal SVM problem, we are solving $d+1$ variables $(W, b)$ with $N$ constrants. If $d$ is large, then hard to compute even using quadratic programming software. So we take the dual problem, the problem will be a quadratic optimizatoin probelm with $N$ varaibles and\n",
    "$N+1$ constraints. The good thing is the $N\\times N$ matrix will be sparse.\n",
    "\n",
    "Now we derive the dual problem. Consider the Lagrange problem\n",
    "$$\\mathcal{L}(W,b,\\alpha_n)= \\frac{1}{2}W^TW + \\sum_{n=1}^N \\alpha _n(1-y_n(W^Tx_n+b))$$\n",
    "We claim that the primal SVM problem is equivalent to \n",
    "$$\\min _{W,b} \\max_{\\alpha _n \\ge 0} \\mathcal{L}(W,b,\\alpha _n) $$\n",
    "\n",
    "First of all note that \n",
    "$$ \\max_{\\alpha _n} \\mathcal{L}(W,b,\\alpha _n) $$\n",
    "implies that the solution must be able to classiy all the datas.\n",
    "If not, there is some $i$ such that \n",
    "$$ y_n(W^Tx_n+b)< 1.$$\n",
    "The above equation will be $\\infty$, which is not possible to be $min$.\n",
    "\n",
    "Moreover, to get $max$, the $\\alpha _n $ must be $0$ if $ y_n(W^Tx_n+b)> 1.$\n",
    "\n",
    "W then have the following weak duality, where the left is\n",
    "equivalent to the primal problem and the right is the $dual$  $problem$,\n",
    "$$\\min _{W,b} \\max_{\\alpha _n \\ge 0} \\mathcal{L}(W,b,\\alpha _n) \n",
    "\\ge  \\max_{\\alpha _n \\ge 0} \\min _{W,b}\\mathcal{L}(W,b,\\alpha _n) $$\n",
    "\n",
    "**When does the weak duality become strong dualtiy?** i.e., the above inequality becomes equality.\n",
    "**Answer:** Whenever the target function is quadratic, and all the constraints are affine.\n",
    "\n",
    "Now consider \n",
    "$$ \\min _{W,b}\\mathcal{L}(W,b,\\alpha _n)$$\n",
    "Take partial of $\\mathcal{L}$ with $b$ we get\n",
    "$$\\sum _{n= 1}^{N}\\alpha _n\\cdot y_n= 0 .$$\n",
    "Take partial of $\\mathcal{L}$ with respect to $W$ we get\n",
    "$$W_i = \\sum _{n= 1}^{N} \\alpha _n y_n x_{n, i}$$, or in vector form\n",
    "$$W = \\sum _{n= 1}^{N}\\alpha _n y_n X_n $$\n",
    "\n",
    "The dual problem becomes\n",
    "$$\\max _{\\alpha _n\\ge 0,\\sum \\alpha _n y_n= 0 , W = \\sum \\alpha _n y_n X_n }  \\frac{1}{2}W^TW + \\sum \\alpha _n - W^TW$$\n",
    "$$= \\max _{\\alpha _n\\ge 0,\\sum \\alpha _n y_n= 0 , W = \\sum \\alpha _n y_n X_n } -\\frac{1}{2} || \\sum \\alpha _n y_n X_n||^2 +\\sum\\alpha _n$$\n",
    "\n",
    "Here is the final form of the dual hard SVM problem\n",
    "$$ \\min \\frac{1}{2} \\sum_n \\sum_m \\alpha_n\\alpha_my_ny_mX^T_nX_m-\\sum \\alpha _n$$\n",
    "$$\\mbox{s.t. } \\alpha_n \\ge 0, \\sum \\alpha_n y_n = 0$$\n",
    "Solving for $N$ varaiables ($\\alpha_n$) with $N+1$ constraints.\n",
    "\n",
    "We then compute $b$ by \n",
    "$$1- y_n(W^TX_n+b) = 0$$ for $n$\n",
    "such that $\\alpha _n > 0, $ i.e. the support vector.\n",
    "\n",
    "**Pros of considering dual problem instead of primal problem** I guess it is important to note that the optimal choice of \n",
    "$W$ is represented by  data, and we only consider the data point on the boundary. More precisely, \n",
    "$$ W_{SVM} = \\sum \\alpha_ny_nX_n .$$\n",
    "We also note that most of the $\\alpha_n$ are zero. This is one of the reasons that dual problem is better."
   ]
  },
  {
   "cell_type": "markdown",
   "metadata": {},
   "source": [
    "**Hard SVM with kernel trick**\n",
    "Translate the hard SVM problem into the form that CVXOPT package required.\n",
    "$$\\min \\frac{1}{2}\\alpha ^T P\\alpha -\\textbf{1}^T\\alpha$$\n",
    "$$\\mbox{s.t. } \\alpha \\ge 0, \\alpha ^T Y = 0$$\n",
    "were $P_{n,m} = y_ny_mX_n^TX_m $. More generally, we can make a transformation of $X$ first. That is \n",
    "$$P_{n,m} = y_ny_m \\Phi(X_n)^T \\Phi(X_m).$$\n",
    "If we pick the transformation in a cleaver way, we can write\n",
    "$$P_{n,m} = y_ny_m \\Phi(X)^T \\Phi(X)= y_ny_m K(X_n, X_m)$$"
   ]
  },
  {
   "cell_type": "code",
   "execution_count": 15,
   "metadata": {
    "collapsed": false
   },
   "outputs": [],
   "source": [
    "#we need to use the optimization package CVXOPT\n",
    "#To install : in terminal run 'conda install cvxopt'\n",
    "#sol = solvers.qp(P,q,G,h, A,b)\n",
    "'''\n",
    "P = P\n",
    "q = 1^T\n",
    "h = 0\n",
    "G = -1 diagonal NxN matrix\n",
    "h = dimension N 0 vector\n",
    "A = Y.transpose()\n",
    "b = 0\n",
    "'''\n",
    "import numpy as np\n",
    "from cvxopt import matrix\n",
    "from cvxopt import solvers\n",
    "import matplotlib.pyplot as plt\n",
    "%matplotlib inline \n"
   ]
  },
  {
   "cell_type": "code",
   "execution_count": 25,
   "metadata": {
    "collapsed": false
   },
   "outputs": [
    {
     "data": {
      "text/plain": [
       "[<matplotlib.lines.Line2D at 0x11a5fff50>]"
      ]
     },
     "execution_count": 25,
     "metadata": {},
     "output_type": "execute_result"
    },
    {
     "data": {
      "image/png": "[encoded data removed]",
      "text/plain": [
       "<matplotlib.figure.Figure at 0x11a4c3210>"
      ]
     },
     "metadata": {},
     "output_type": "display_data"
    }
   ],
   "source": [
    "#we consider a toy example with three points\n",
    "x = np.array([[1,1], [2,0], [2,3]])\n",
    "y = np.array([[-1],[-1],[1]])\n",
    "color = [y == -1]\n",
    "x1, x2 = zip(*x)\n",
    "fig, ax = plt.subplots()\n",
    "ax.scatter(x1, x2, c = color, alpha = 0.6, s = 40)\n",
    "t = np.linspace(0.8, 2.2, 0.001)\n",
    "ax.plot(t, -0.5*t+2.75, 'r')\n",
    "\n"
   ]
  },
  {
   "cell_type": "code",
   "execution_count": 17,
   "metadata": {
    "collapsed": false
   },
   "outputs": [
    {
     "name": "stdout",
     "output_type": "stream",
     "text": [
      "     pcost       dcost       gap    pres   dres\n",
      " 0: -3.6735e-01 -9.3878e-01  4e+00  2e+00  1e+00\n",
      " 1: -2.9890e-01 -7.6727e-01  5e-01  3e-16  5e-16\n",
      " 2: -3.8676e-01 -4.1756e-01  3e-02  2e-16  4e-16\n",
      " 3: -3.9941e-01 -4.0022e-01  8e-04  1e-16  1e-16\n",
      " 4: -3.9999e-01 -4.0000e-01  8e-06  1e-16  2e-16\n",
      " 5: -4.0000e-01 -4.0000e-01  8e-08  6e-17  1e-16\n",
      "Optimal solution found.\n"
     ]
    },
    {
     "data": {
      "text/plain": [
       "array([[  3.99999832e-01],\n",
       "       [  1.48907322e-07],\n",
       "       [  3.99999981e-01]])"
      ]
     },
     "execution_count": 17,
     "metadata": {},
     "output_type": "execute_result"
    }
   ],
   "source": [
    "#translate the optimizarion problem innto the form required by CVXOPT\n",
    "P = matrix(np.dot(x, np.transpose(x))*(y*np.transpose(y)), tc='d')\n",
    "q = matrix(-1*np.ones((3,1)),tc='d')\n",
    "G = matrix(np.diag([-1,-1,-1]), tc='d')\n",
    "h = matrix(np.zeros((3,1)), tc='d')\n",
    "A = matrix(y.transpose(),tc='d')\n",
    "b = matrix([0], tc = 'd')\n",
    "sol = solvers.qp(P,q,G,h, A,b)\n",
    "alpha = np.array(sol['x'])\n",
    "alpha\n",
    "#Note that the second alpha=0, which means it is NOT on the boundary"
   ]
  },
  {
   "cell_type": "code",
   "execution_count": 18,
   "metadata": {
    "collapsed": false
   },
   "outputs": [
    {
     "data": {
      "text/plain": [
       "(array([[ 0.39999983],\n",
       "        [ 0.80000011]]), array([-2.19999994]))"
      ]
     },
     "execution_count": 18,
     "metadata": {},
     "output_type": "execute_result"
    }
   ],
   "source": [
    "#compute the coefiiciens W and intercept b\n",
    "w =  np.dot(x.transpose(), y*alpha)\n",
    "b = y[0]*(1- y[0]*np.dot(w.transpose(), x[0]))\n",
    "w, b"
   ]
  },
  {
   "cell_type": "markdown",
   "metadata": {},
   "source": [
    "So the hyperplane if \n",
    "$$ 0.4x_1+ 0.8x_2-2.2 $$\n",
    "We note that if we plug in support vector, say point one or point three, we get \n",
    "$$y_n(W^Tx_n+b) = 1$$"
   ]
  },
  {
   "cell_type": "code",
   "execution_count": 23,
   "metadata": {
    "collapsed": false
   },
   "outputs": [
    {
     "ename": "AttributeError",
     "evalue": "'AxesSubplot' object has no attribute 'show'",
     "output_type": "error",
     "traceback": [
      "\u001b[0;31m---------------------------------------------------------------------------\u001b[0m",
      "\u001b[0;31mAttributeError\u001b[0m                            Traceback (most recent call last)",
      "\u001b[0;32m<ipython-input-23-a96b57508707>\u001b[0m in \u001b[0;36m<module>\u001b[0;34m()\u001b[0m\n\u001b[1;32m      2\u001b[0m \u001b[0mt\u001b[0m \u001b[0;34m=\u001b[0m \u001b[0mnp\u001b[0m\u001b[0;34m.\u001b[0m\u001b[0mlinspace\u001b[0m\u001b[0;34m(\u001b[0m\u001b[0;36m0.8\u001b[0m\u001b[0;34m,\u001b[0m \u001b[0;36m2.2\u001b[0m\u001b[0;34m,\u001b[0m \u001b[0;36m0.001\u001b[0m\u001b[0;34m)\u001b[0m\u001b[0;34m\u001b[0m\u001b[0m\n\u001b[1;32m      3\u001b[0m \u001b[0max\u001b[0m\u001b[0;34m.\u001b[0m\u001b[0mplot\u001b[0m\u001b[0;34m(\u001b[0m\u001b[0mt\u001b[0m\u001b[0;34m,\u001b[0m \u001b[0;34m-\u001b[0m\u001b[0;36m0.5\u001b[0m\u001b[0;34m*\u001b[0m\u001b[0mt\u001b[0m\u001b[0;34m+\u001b[0m\u001b[0;36m2.75\u001b[0m\u001b[0;34m,\u001b[0m \u001b[0;34m'r'\u001b[0m\u001b[0;34m)\u001b[0m\u001b[0;34m\u001b[0m\u001b[0m\n\u001b[0;32m----> 4\u001b[0;31m \u001b[0max\u001b[0m\u001b[0;34m.\u001b[0m\u001b[0mshow\u001b[0m\u001b[0;34m(\u001b[0m\u001b[0;34m)\u001b[0m\u001b[0;34m\u001b[0m\u001b[0m\n\u001b[0m",
      "\u001b[0;31mAttributeError\u001b[0m: 'AxesSubplot' object has no attribute 'show'"
     ]
    }
   ],
   "source": [
    "\n",
    "\n"
   ]
  },
  {
   "cell_type": "code",
   "execution_count": null,
   "metadata": {
    "collapsed": true
   },
   "outputs": [],
   "source": []
  }
 ],
 "metadata": {
  "kernelspec": {
   "display_name": "Python 2",
   "language": "python",
   "name": "python2"
  },
  "language_info": {
   "codemirror_mode": {
    "name": "ipython",
    "version": 2
   },
   "file_extension": ".py",
   "mimetype": "text/x-python",
   "name": "python",
   "nbconvert_exporter": "python",
   "pygments_lexer": "ipython2",
   "version": "2.7.13"
  }
 },
 "nbformat": 4,
 "nbformat_minor": 1
}
